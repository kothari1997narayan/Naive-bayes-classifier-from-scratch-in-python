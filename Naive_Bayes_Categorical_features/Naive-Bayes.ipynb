{
 "cells": [
  {
   "cell_type": "code",
   "execution_count": 1,
   "metadata": {},
   "outputs": [],
   "source": [
    "import numpy as np \n",
    "import pandas as pd \t\n",
    "import matplotlib.pyplot as plt \n",
    "import math\n",
    "\n",
    "df = pd.read_csv('weather_data.txt',delimiter=\"\\t\")\n",
    "X = df.drop([df.columns[-1]], axis = 1)\n",
    "y = df[df.columns[-1]]\n"
   ]
  },
  {
   "cell_type": "code",
   "execution_count": 4,
   "metadata": {},
   "outputs": [
    {
     "name": "stdout",
     "output_type": "stream",
     "text": [
      "['Outlook', 'Temp', 'Humidity', 'Windy']\n"
     ]
    }
   ],
   "source": [
    "features = list(X.columns)\n",
    "print(features)"
   ]
  },
  {
   "cell_type": "code",
   "execution_count": 5,
   "metadata": {},
   "outputs": [],
   "source": [
    "X_train = X\n",
    "y_train = y\n",
    "train_size = X.shape[0]\n",
    "num_feats = X.shape[1]"
   ]
  },
  {
   "cell_type": "code",
   "execution_count": 6,
   "metadata": {},
   "outputs": [],
   "source": [
    "likelihoods = {}\n",
    "class_priors = {}\n",
    "pred_priors = {}"
   ]
  },
  {
   "cell_type": "code",
   "execution_count": 10,
   "metadata": {},
   "outputs": [],
   "source": [
    "for feature in features:\n",
    "    likelihoods[feature] = {}\n",
    "    pred_priors[feature] = {}\n",
    "\n",
    "    for feat_val in np.unique(X_train[feature]):\n",
    "        pred_priors[feature].update({feat_val: 0})\n",
    "\n",
    "        for outcome in np.unique(y_train):\n",
    "            likelihoods[feature].update({feat_val+'_'+outcome:0})\n",
    "            class_priors.update({outcome: 0})\n"
   ]
  },
  {
   "cell_type": "code",
   "execution_count": 11,
   "metadata": {},
   "outputs": [
    {
     "name": "stdout",
     "output_type": "stream",
     "text": [
      "{'no': 0, 'yes': 0}\n"
     ]
    }
   ],
   "source": [
    "print(class_priors)"
   ]
  },
  {
   "cell_type": "code",
   "execution_count": 12,
   "metadata": {},
   "outputs": [
    {
     "name": "stdout",
     "output_type": "stream",
     "text": [
      "{'Outlook': {'Overcast': 0, 'Rainy': 0, 'Sunny': 0}, 'Temp': {'Cool': 0, 'Hot': 0, 'Mild': 0}, 'Humidity': {'High': 0, 'Normal': 0}, 'Windy': {'f': 0, 't': 0}}\n"
     ]
    }
   ],
   "source": [
    "print(pred_priors)"
   ]
  },
  {
   "cell_type": "code",
   "execution_count": 9,
   "metadata": {},
   "outputs": [
    {
     "name": "stdout",
     "output_type": "stream",
     "text": [
      "{'Outlook': {'Overcast_no': 0, 'Overcast_yes': 0, 'Rainy_no': 0, 'Rainy_yes': 0, 'Sunny_no': 0, 'Sunny_yes': 0}, 'Temp': {'Cool_no': 0, 'Cool_yes': 0, 'Hot_no': 0, 'Hot_yes': 0, 'Mild_no': 0, 'Mild_yes': 0}, 'Humidity': {'High_no': 0, 'High_yes': 0, 'Normal_no': 0, 'Normal_yes': 0}, 'Windy': {'f_no': 0, 'f_yes': 0, 't_no': 0, 't_yes': 0}}\n"
     ]
    }
   ],
   "source": [
    "print(likelihoods)"
   ]
  },
  {
   "cell_type": "code",
   "execution_count": 13,
   "metadata": {},
   "outputs": [],
   "source": [
    "\"\"\" P(c) - Prior Class Probability \"\"\"\n",
    "for outcome in np.unique(y_train):\n",
    "    outcome_count = sum(y_train == outcome)\n",
    "    class_priors[outcome] = outcome_count / train_size"
   ]
  },
  {
   "cell_type": "code",
   "execution_count": 14,
   "metadata": {},
   "outputs": [
    {
     "name": "stdout",
     "output_type": "stream",
     "text": [
      "{'no': 0.35714285714285715, 'yes': 0.6428571428571429}\n"
     ]
    }
   ],
   "source": [
    "print(class_priors)"
   ]
  },
  {
   "cell_type": "code",
   "execution_count": 17,
   "metadata": {
    "scrolled": true
   },
   "outputs": [
    {
     "name": "stdout",
     "output_type": "stream",
     "text": [
      "{'Rainy': 3, 'Sunny': 2}\n",
      "{'Overcast': 4, 'Sunny': 3, 'Rainy': 2}\n",
      "{'Mild': 2, 'Hot': 2, 'Cool': 1}\n",
      "{'Mild': 4, 'Cool': 3, 'Hot': 2}\n",
      "{'High': 4, 'Normal': 1}\n",
      "{'Normal': 6, 'High': 3}\n",
      "{'t': 3, 'f': 2}\n",
      "{'f': 6, 't': 3}\n"
     ]
    }
   ],
   "source": [
    "\"\"\" P(x|c) - Likelihood \"\"\"\n",
    "for feature in features:\n",
    "    for outcome in np.unique(y_train):\n",
    "        outcome_count = sum(y_train == outcome)\n",
    "        feat_likelihood = X_train[feature][y_train[y_train == outcome].index.values.tolist()].value_counts().to_dict()\n",
    "        print(feat_likelihood)\n",
    "        for feat_val, count in feat_likelihood.items():\n",
    "            likelihoods[feature][feat_val + '_' + outcome] = count/outcome_count"
   ]
  },
  {
   "cell_type": "code",
   "execution_count": 18,
   "metadata": {},
   "outputs": [
    {
     "name": "stdout",
     "output_type": "stream",
     "text": [
      "{'Outlook': {'Overcast_no': 0, 'Overcast_yes': 0.4444444444444444, 'Rainy_no': 0.6, 'Rainy_yes': 0.2222222222222222, 'Sunny_no': 0.4, 'Sunny_yes': 0.3333333333333333}, 'Temp': {'Cool_no': 0.2, 'Cool_yes': 0.3333333333333333, 'Hot_no': 0.4, 'Hot_yes': 0.2222222222222222, 'Mild_no': 0.4, 'Mild_yes': 0.4444444444444444}, 'Humidity': {'High_no': 0.8, 'High_yes': 0.3333333333333333, 'Normal_no': 0.2, 'Normal_yes': 0.6666666666666666}, 'Windy': {'f_no': 0.4, 'f_yes': 0.6666666666666666, 't_no': 0.6, 't_yes': 0.3333333333333333}}\n"
     ]
    }
   ],
   "source": [
    "print(likelihoods)"
   ]
  },
  {
   "cell_type": "code",
   "execution_count": 21,
   "metadata": {},
   "outputs": [
    {
     "name": "stdout",
     "output_type": "stream",
     "text": [
      "{'Rainy': 5, 'Sunny': 5, 'Overcast': 4}\n",
      "{'Mild': 6, 'Cool': 4, 'Hot': 4}\n",
      "{'Normal': 7, 'High': 7}\n",
      "{'f': 8, 't': 6}\n"
     ]
    }
   ],
   "source": [
    "\"\"\" P(x) - Evidence \"\"\"\n",
    "for feature in features:\n",
    "    feat_vals = X_train[feature].value_counts().to_dict()\n",
    "    print(feat_vals)\n",
    "    for feat_val, count in feat_vals.items():\n",
    "        pred_priors[feature][feat_val] = count/train_size"
   ]
  },
  {
   "cell_type": "code",
   "execution_count": 20,
   "metadata": {},
   "outputs": [
    {
     "name": "stdout",
     "output_type": "stream",
     "text": [
      "{'Outlook': {'Overcast': 0.2857142857142857, 'Rainy': 0.35714285714285715, 'Sunny': 0.35714285714285715}, 'Temp': {'Cool': 0.2857142857142857, 'Hot': 0.2857142857142857, 'Mild': 0.42857142857142855}, 'Humidity': {'High': 0.5, 'Normal': 0.5}, 'Windy': {'f': 0.5714285714285714, 't': 0.42857142857142855}}\n"
     ]
    }
   ],
   "source": [
    "print(pred_priors)"
   ]
  },
  {
   "cell_type": "code",
   "execution_count": 30,
   "metadata": {},
   "outputs": [
    {
     "name": "stdout",
     "output_type": "stream",
     "text": [
      "{'no': 0.3136, 'yes': 0.43017832647462273}\n",
      "['yes']\n"
     ]
    }
   ],
   "source": [
    "\"\"\" Calculates Posterior probability P(c|x) \"\"\"\n",
    "results = []\n",
    "qu = np.array([['Rainy','Mild', 'Normal', 't']])\n",
    "qu = np.array(qu)\n",
    "### qu = x_test\n",
    "## I am considering 0 f or this case but usually it will change depending upon the task\n",
    "m = 0  ## m = 2\n",
    "p = 0  ## p = 1/m\n",
    "for query in qu:\n",
    "    probs_outcome = {}\n",
    "    for outcome in np.unique(y_train):\n",
    "        prior = class_priors[outcome]\n",
    "        likelihood = 1\n",
    "        evidence = 1\n",
    "\n",
    "        for feat, feat_val in zip(features, query):\n",
    "            likelihood *= likelihoods[feat][feat_val + '_' + outcome]\n",
    "            evidence *= pred_priors[feat][feat_val]\n",
    "\n",
    "        posterior = (likelihood * prior + m*p) / (evidence + m)\n",
    "        \n",
    "        probs_outcome[outcome] = posterior\n",
    "    print(probs_outcome)\n",
    "    result = max(probs_outcome, key = lambda x: probs_outcome[x])\n",
    "    results.append(result)\n",
    "print(results)"
   ]
  },
  {
   "cell_type": "code",
   "execution_count": null,
   "metadata": {},
   "outputs": [],
   "source": []
  }
 ],
 "metadata": {
  "kernelspec": {
   "display_name": "Python 3",
   "language": "python",
   "name": "python3"
  },
  "language_info": {
   "codemirror_mode": {
    "name": "ipython",
    "version": 3
   },
   "file_extension": ".py",
   "mimetype": "text/x-python",
   "name": "python",
   "nbconvert_exporter": "python",
   "pygments_lexer": "ipython3",
   "version": "3.7.4"
  }
 },
 "nbformat": 4,
 "nbformat_minor": 2
}
