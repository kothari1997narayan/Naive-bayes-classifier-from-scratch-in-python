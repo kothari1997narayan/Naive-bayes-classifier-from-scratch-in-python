{
  "nbformat": 4,
  "nbformat_minor": 0,
  "metadata": {
    "colab": {
      "name": "Gaussian_Naive_Bayes.ipynb",
      "provenance": [],
      "collapsed_sections": []
    },
    "kernelspec": {
      "name": "python3",
      "display_name": "Python 3"
    },
    "language_info": {
      "name": "python"
    }
  },
  "cells": [
    {
      "cell_type": "code",
      "execution_count": 5,
      "metadata": {
        "id": "4blPKtAcctWV"
      },
      "outputs": [],
      "source": [
        "import numpy as np \n",
        "import pandas as pd \t\n",
        "import matplotlib.pyplot as plt \n",
        "import math\n",
        "from sklearn.model_selection import train_test_split\n",
        "\n",
        "df = pd.read_csv('Iris.csv')\n",
        "X = df.drop([df.columns[-1]], axis = 1)\n",
        "y = df[df.columns[-1]]"
      ]
    },
    {
      "cell_type": "code",
      "source": [
        "features = list(X.columns)\n",
        "print(features)"
      ],
      "metadata": {
        "colab": {
          "base_uri": "https://localhost:8080/"
        },
        "id": "7dd_bEWHlSYa",
        "outputId": "668a97fb-e7a8-44c3-c52d-48d470353b97"
      },
      "execution_count": 2,
      "outputs": [
        {
          "output_type": "stream",
          "name": "stdout",
          "text": [
            "['SepalLengthCm', 'SepalWidthCm', 'PetalLengthCm', 'PetalWidthCm']\n"
          ]
        }
      ]
    },
    {
      "cell_type": "code",
      "source": [
        "X_train, X_test, y_train, y_test = train_test_split(X, y, test_size=0.2, random_state=42)\n",
        "\n",
        "train_size = X_train.shape[0]\n",
        "num_feats = X_train.shape[1]\n",
        "print(train_size, num_feats)"
      ],
      "metadata": {
        "colab": {
          "base_uri": "https://localhost:8080/"
        },
        "id": "6vqcyJWrlVLh",
        "outputId": "d2715b50-5767-4046-fb91-88d06a0e1945"
      },
      "execution_count": 18,
      "outputs": [
        {
          "output_type": "stream",
          "name": "stdout",
          "text": [
            "120 4\n"
          ]
        }
      ]
    },
    {
      "cell_type": "code",
      "source": [
        "likelihoods = {}\n",
        "class_priors = {}"
      ],
      "metadata": {
        "id": "c7v1u4WalZvI"
      },
      "execution_count": 19,
      "outputs": []
    },
    {
      "cell_type": "code",
      "source": [
        "for feature in features:\n",
        "    likelihoods[feature] = {}\n",
        "    for outcome in np.unique(y_train):\n",
        "        likelihoods[feature].update({outcome:{}})\n",
        "        class_priors.update({outcome: 0})"
      ],
      "metadata": {
        "id": "zAei3-YdmKK5"
      },
      "execution_count": 38,
      "outputs": []
    },
    {
      "cell_type": "code",
      "source": [
        "\"\"\" P(c) - Prior Class Probability \"\"\"\n",
        "for outcome in np.unique(y_train):\n",
        "    outcome_count = sum(y_train == outcome)\n",
        "    class_priors[outcome] = outcome_count / train_size\n",
        "print(class_priors)"
      ],
      "metadata": {
        "colab": {
          "base_uri": "https://localhost:8080/"
        },
        "id": "0O9JSNZqmyzN",
        "outputId": "519a9a81-240d-4ff4-f4d4-6f224955af73"
      },
      "execution_count": 39,
      "outputs": [
        {
          "output_type": "stream",
          "name": "stdout",
          "text": [
            "{'Iris-setosa': 0.3333333333333333, 'Iris-versicolor': 0.3416666666666667, 'Iris-virginica': 0.325}\n"
          ]
        }
      ]
    },
    {
      "cell_type": "code",
      "source": [
        "\"\"\" P(x|c) - Likelihoods \"\"\"\n",
        "for feature in features:\n",
        "  for outcome in np.unique(y_train):\n",
        "    likelihoods[feature][outcome]['mean'] = X_train[feature][y_train[y_train == outcome].index.values.tolist()].mean()\n",
        "    likelihoods[feature][outcome]['variance'] = X_train[feature][y_train[y_train == outcome].index.values.tolist()].var()\n",
        "  print(likelihoods)\n",
        "print(likelihoods)"
      ],
      "metadata": {
        "colab": {
          "base_uri": "https://localhost:8080/"
        },
        "id": "POIs_e96m2qN",
        "outputId": "5a061e70-d2bf-4b13-8615-5435d0dc39c7"
      },
      "execution_count": 40,
      "outputs": [
        {
          "output_type": "stream",
          "name": "stdout",
          "text": [
            "{'SepalLengthCm': {'Iris-setosa': {'mean': 4.99, 'variance': 0.1270769230769231}, 'Iris-versicolor': {'mean': 5.919512195121952, 'variance': 0.29410975609756096}, 'Iris-virginica': {'mean': 6.533333333333333, 'variance': 0.4275438596491228}}, 'SepalWidthCm': {'Iris-setosa': {}, 'Iris-versicolor': {}, 'Iris-virginica': {}}, 'PetalLengthCm': {'Iris-setosa': {}, 'Iris-versicolor': {}, 'Iris-virginica': {}}, 'PetalWidthCm': {'Iris-setosa': {}, 'Iris-versicolor': {}, 'Iris-virginica': {}}}\n",
            "{'SepalLengthCm': {'Iris-setosa': {'mean': 4.99, 'variance': 0.1270769230769231}, 'Iris-versicolor': {'mean': 5.919512195121952, 'variance': 0.29410975609756096}, 'Iris-virginica': {'mean': 6.533333333333333, 'variance': 0.4275438596491228}}, 'SepalWidthCm': {'Iris-setosa': {'mean': 3.439999999999999, 'variance': 0.1588717948717949}, 'Iris-versicolor': {'mean': 2.770731707317073, 'variance': 0.1026219512195122}, 'Iris-virginica': {'mean': 2.9666666666666663, 'variance': 0.10175438596491228}}, 'PetalLengthCm': {'Iris-setosa': {}, 'Iris-versicolor': {}, 'Iris-virginica': {}}, 'PetalWidthCm': {'Iris-setosa': {}, 'Iris-versicolor': {}, 'Iris-virginica': {}}}\n",
            "{'SepalLengthCm': {'Iris-setosa': {'mean': 4.99, 'variance': 0.1270769230769231}, 'Iris-versicolor': {'mean': 5.919512195121952, 'variance': 0.29410975609756096}, 'Iris-virginica': {'mean': 6.533333333333333, 'variance': 0.4275438596491228}}, 'SepalWidthCm': {'Iris-setosa': {'mean': 3.439999999999999, 'variance': 0.1588717948717949}, 'Iris-versicolor': {'mean': 2.770731707317073, 'variance': 0.1026219512195122}, 'Iris-virginica': {'mean': 2.9666666666666663, 'variance': 0.10175438596491228}}, 'PetalLengthCm': {'Iris-setosa': {'mean': 1.4525, 'variance': 0.033839743589743586}, 'Iris-versicolor': {'mean': 4.241463414634146, 'variance': 0.2314878048780488}, 'Iris-virginica': {'mean': 5.52051282051282, 'variance': 0.29325236167341423}}, 'PetalWidthCm': {'Iris-setosa': {}, 'Iris-versicolor': {}, 'Iris-virginica': {}}}\n",
            "{'SepalLengthCm': {'Iris-setosa': {'mean': 4.99, 'variance': 0.1270769230769231}, 'Iris-versicolor': {'mean': 5.919512195121952, 'variance': 0.29410975609756096}, 'Iris-virginica': {'mean': 6.533333333333333, 'variance': 0.4275438596491228}}, 'SepalWidthCm': {'Iris-setosa': {'mean': 3.439999999999999, 'variance': 0.1588717948717949}, 'Iris-versicolor': {'mean': 2.770731707317073, 'variance': 0.1026219512195122}, 'Iris-virginica': {'mean': 2.9666666666666663, 'variance': 0.10175438596491228}}, 'PetalLengthCm': {'Iris-setosa': {'mean': 1.4525, 'variance': 0.033839743589743586}, 'Iris-versicolor': {'mean': 4.241463414634146, 'variance': 0.2314878048780488}, 'Iris-virginica': {'mean': 5.52051282051282, 'variance': 0.29325236167341423}}, 'PetalWidthCm': {'Iris-setosa': {'mean': 0.2425, 'variance': 0.011737179487179486}, 'Iris-versicolor': {'mean': 1.3219512195121952, 'variance': 0.042256097560975606}, 'Iris-virginica': {'mean': 1.9999999999999996, 'variance': 0.08421052631578946}}}\n",
            "{'SepalLengthCm': {'Iris-setosa': {'mean': 4.99, 'variance': 0.1270769230769231}, 'Iris-versicolor': {'mean': 5.919512195121952, 'variance': 0.29410975609756096}, 'Iris-virginica': {'mean': 6.533333333333333, 'variance': 0.4275438596491228}}, 'SepalWidthCm': {'Iris-setosa': {'mean': 3.439999999999999, 'variance': 0.1588717948717949}, 'Iris-versicolor': {'mean': 2.770731707317073, 'variance': 0.1026219512195122}, 'Iris-virginica': {'mean': 2.9666666666666663, 'variance': 0.10175438596491228}}, 'PetalLengthCm': {'Iris-setosa': {'mean': 1.4525, 'variance': 0.033839743589743586}, 'Iris-versicolor': {'mean': 4.241463414634146, 'variance': 0.2314878048780488}, 'Iris-virginica': {'mean': 5.52051282051282, 'variance': 0.29325236167341423}}, 'PetalWidthCm': {'Iris-setosa': {'mean': 0.2425, 'variance': 0.011737179487179486}, 'Iris-versicolor': {'mean': 1.3219512195121952, 'variance': 0.042256097560975606}, 'Iris-virginica': {'mean': 1.9999999999999996, 'variance': 0.08421052631578946}}}\n"
          ]
        }
      ]
    },
    {
      "cell_type": "code",
      "source": [
        "y_train[y_train == outcome].index.values.tolist()[:10]"
      ],
      "metadata": {
        "colab": {
          "base_uri": "https://localhost:8080/"
        },
        "id": "9JGPSxhyrmh0",
        "outputId": "da7d9589-0b4a-408c-822d-203c0f3d1fa4"
      },
      "execution_count": 45,
      "outputs": [
        {
          "output_type": "execute_result",
          "data": {
            "text/plain": [
              "[146, 142, 133, 137, 109, 105, 122, 123, 117, 113]"
            ]
          },
          "metadata": {},
          "execution_count": 45
        }
      ]
    },
    {
      "cell_type": "code",
      "source": [
        "\"\"\" Calculates Posterior probability P(c|x) \"\"\"\n",
        "\n",
        "y_pred = []\n",
        "test = np.array(X_test)\n",
        "\n",
        "for query in test:\n",
        "  probs_outcome = {}\n",
        "\n",
        "  \"\"\"\n",
        "    Note: No Need to calculate evidence i.e P(x) since it is constant fot the given sample.\n",
        "            Therfore, it does not affect classification and can be ignored\n",
        "  \"\"\"\n",
        "  for outcome in np.unique(y_train):\n",
        "    prior = class_priors[outcome]\n",
        "    likelihood = 1\n",
        "    evidence_temp = 1\n",
        "\n",
        "    for feat, feat_val in zip(features, query):\n",
        "      mean = likelihoods[feat][outcome]['mean']\n",
        "      var = likelihoods[feat][outcome]['variance']\n",
        "      likelihood *= (1/math.sqrt(2*math.pi*var)) * np.exp(-(feat_val - mean)**2 / (2*var))\n",
        "\n",
        "    posterior_numerator = (likelihood * prior)\n",
        "    probs_outcome[outcome] = posterior_numerator\n",
        "\n",
        "\n",
        "  pred = max(probs_outcome, key = lambda x: probs_outcome[x])\n",
        "  y_pred.append(pred)\n",
        "\n",
        "print(probs_outcome)"
      ],
      "metadata": {
        "colab": {
          "base_uri": "https://localhost:8080/"
        },
        "id": "SwdCcyu2n0x3",
        "outputId": "71b17bee-a15c-4d26-e12f-9276b8a11eac"
      },
      "execution_count": 35,
      "outputs": [
        {
          "output_type": "stream",
          "name": "stdout",
          "text": [
            "{'Iris-setosa': 1.2071223550898493, 'Iris-versicolor': 3.4172819017927923e-15, 'Iris-virginica': 1.2585135394636042e-22}\n"
          ]
        }
      ]
    },
    {
      "cell_type": "code",
      "source": [
        "np.sum(y_pred==y_test)/len(y_test)"
      ],
      "metadata": {
        "colab": {
          "base_uri": "https://localhost:8080/"
        },
        "id": "lAPBb0D7o58V",
        "outputId": "441524d7-1d7e-4db7-9937-0c970f677570"
      },
      "execution_count": 36,
      "outputs": [
        {
          "output_type": "execute_result",
          "data": {
            "text/plain": [
              "1.0"
            ]
          },
          "metadata": {},
          "execution_count": 36
        }
      ]
    }
  ]
}